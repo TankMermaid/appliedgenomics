{
  "nbformat": 4,
  "nbformat_minor": 0,
  "metadata": {
    "colab": {
      "name": "Copy of funGene.ipynb",
      "provenance": [],
      "collapsed_sections": [],
      "mount_file_id": "1bCUQsVXrQVrqJCvYOIU3Wj0fPh3nexOw",
      "authorship_tag": "ABX9TyPkq5e8T3+D2Rk+Tz01ffQM",
      "include_colab_link": true
    },
    "kernelspec": {
      "name": "python3",
      "display_name": "Python 3"
    }
  },
  "cells": [
    {
      "cell_type": "markdown",
      "metadata": {
        "id": "view-in-github",
        "colab_type": "text"
      },
      "source": [
        "<a href=\"https://colab.research.google.com/github/TankMermaid/appliedgenomics/blob/master/Copy_of_funGene.ipynb\" target=\"_parent\"><img src=\"https://colab.research.google.com/assets/colab-badge.svg\" alt=\"Open In Colab\"/></a>"
      ]
    },
    {
      "cell_type": "code",
      "metadata": {
        "id": "LSzIjVoM-8A8",
        "outputId": "a77ce3f4-a51d-4338-d507-9a54bf5dde41",
        "colab": {
          "base_uri": "https://localhost:8080/",
          "height": 681
        }
      },
      "source": [
        "#!/usr/bin/python3\n",
        "\n",
        "\n",
        "__Author__= 'Tank'\n",
        "__Email__ = 'xnzhang@genetics.ac.cn'\n",
        "__Version__=1.0\n",
        "\n",
        "\n",
        "\"\"\"This script aims to scrape some website table-format \\\n",
        "data and apply in analysing some basic statistics and visualization\"\"\"\n",
        "from google.colab import drive\n",
        "\n",
        "\n",
        "import requests\n",
        "from bs4 import BeautifulSoup\n",
        "import re\n",
        "import pandas as pd\n",
        "import json\n",
        "import os\n",
        "import sys\n",
        "import subprocess\n",
        "\n",
        "drive.mount('/content/gdrive')\n",
        "\n",
        "url=\"http://fungene.cme.msu.edu/\"\n",
        "new_dic = {}\n",
        "\n",
        "\n",
        "def get_span_name(table_body):\n",
        "  span_names=[]\n",
        "  for tb in table_body[1:]:\n",
        "    # print(type(tb))\n",
        "    rows = tb.find_all('td',{\"style\": True} )\n",
        "    print(\"here is a tr block td data\")\n",
        "    # print(rows)\n",
        "    print(len(rows))\n",
        "    for r in rows:\n",
        "      span=r.find_all('span',{\"class\":\"hilite\"})\n",
        "      span_name=\"\".join([y.text.strip() for y in span])\n",
        "      # print(span_name)\n",
        "      # print(type(span_name))\n",
        "      if len(span_name) >= 1:\n",
        "        span_names.append(span_name)\n",
        "        # print(span_names)\n",
        "  return span_names\n",
        "\n",
        "def get_table_number(table_body):\n",
        "  for tb in table_body:\n",
        "    print(\"What you are scrapying is a table...\")\n",
        "    # print(tb)\n",
        "    print(\"all the table number is %d\"%(len(table_body)))\n",
        "\n",
        "def get_gene_url_list(tds):\n",
        "  ## parallel in multiple colab running \n",
        "  for td in tds:\n",
        "    # span=td.find_all('span',{\"class\":\"gene\"})\n",
        "    span=td.find_all('span')\n",
        "    # span_name=[y.text.strip() for y in span]\n",
        "    # print(span)# \n",
        "    td_name=td.find('span',{\"class\":\"hilite\"}).text\n",
        "    # print(td_name)\n",
        "    cwd=os.getcwd()\n",
        "    try:\n",
        "      os.makedirs(os.path.join(cwd,\"gdrive/My Drive/\",td_name),exist_ok=True) ## mkdir and mkdirs and makedirs ## join and os.path.join\n",
        "    except:\n",
        "      pass\n",
        "\n",
        "    link_list=[]\n",
        "    gene_list=[]\n",
        "    for href in span:\n",
        "      link = href.find_all('a')\n",
        "      links=\"\".join([url + x.get('href') for x in link])\n",
        "      # print(links)\n",
        "      if len(links) >0:\n",
        "        link_list.append(links)\n",
        "\n",
        "      genes=\"\".join([y.text.strip() for y in link])\n",
        "      if len(genes) >0:\n",
        "        gene_list.append(genes)\n",
        "    # print(link_list)\n",
        "    # print(gene_list)\n",
        "    # print(len(gene_list))\n",
        "    # print(len(link_list))\n",
        "  return link_list, gene_list\n",
        "\n",
        "def get_next_layer(gene_list,link_list):\n",
        "  gene_url_map = dict(zip(gene_list,link_list))  ## test\n",
        "  print(gene_url_map)\n",
        "      # print(names)\n",
        "      # print(list(c))\n",
        "      # print(c)\n",
        "  for k,v in gene_url_map.items():\n",
        "    print(k)\n",
        "    print(v)\n",
        "    response_sub= requests.get(v)\n",
        "    html_sub=response_sub.content.decode(\"gbk\")\n",
        "    bs_sub = BeautifulSoup(html_sub, \"html.parser\")\n",
        "    # print(bs_sub)\n",
        "    # table_body_sub = bs_sub.find('tr')\n",
        "    # rows_sub = [tag for tag in bs_sub.find_all('td') if tag.text == \"Page\"]\n",
        "    rows_sub = bs_sub.find_all('td')\n",
        "    td_page= re.findall(r'<td>Page:(.*?)</td>',rows_sub)\n",
        "    print(td_page)\n",
        "\n",
        "def get_data(url):\n",
        "  response= requests.get(url)\n",
        "  html=response.content.decode(\"gbk\")\n",
        "    \n",
        "  bs=BeautifulSoup(html, \"html.parser\")\n",
        "  table_body=bs.find(\"table\")\n",
        "  # print(table_body)\n",
        "  # table_body=bs.find_all(\"table\")\n",
        "  ## get table number\n",
        "  get_table_number(table_body)\n",
        "\n",
        "  # get span name\n",
        "  # span_names=get_span_name(table_body)\n",
        "\n",
        "   ## get td list\n",
        "  # td_list=[]\n",
        "  # for tb in table_body[1::]:\n",
        "  tb = table_body\n",
        "    # print(type(tb))\n",
        "  tds = tb.find_all('td',{\"style\": True} )\n",
        "  print(\"here is a tr block td data\")\n",
        "  # print(rows)\n",
        "  print(\"all the table section number is %d\" %(len(tds)))\n",
        "\n",
        "  # link_list,gene_list = get_gene_url_list(tds)\n",
        "  for td in tds:\n",
        "    # span=td.find_all('span',{\"class\":\"gene\"})\n",
        "    span=td.find_all('span')\n",
        "    # span_name=[y.text.strip() for y in span]\n",
        "    # print(span)# \n",
        "    td_name=td.find('span',{\"class\":\"hilite\"}).text\n",
        "    # print(td_name)\n",
        "    cwd=os.getcwd()\n",
        "    try:\n",
        "      os.makedirs(os.path.join(cwd,\"gdrive/My Drive/\",td_name),exist_ok=True) ## mkdir and mkdirs and makedirs ## join and os.path.join\n",
        "    except:\n",
        "      pass\n",
        "\n",
        "    link_list=[]\n",
        "    gene_list=[]\n",
        "    for href in span:\n",
        "      link = href.find_all('a')\n",
        "      links=\"\".join([url + x.get('href') for x in link])\n",
        "      # print(links)\n",
        "      if len(links) >0:\n",
        "        link_list.append(links)\n",
        "\n",
        "      genes=\"\".join([y.text.strip() for y in link])\n",
        "      if len(genes) >0:\n",
        "        gene_list.append(genes) \n",
        "    get_next_layer(gene_list,link_list)\n",
        "    # print(rows_sub)\n",
        "\n",
        "        # p_names=[]\n",
        "        # p_hrefs=[]\n",
        "        # for line in rows_sub: ## test\n",
        "    # for line in rows_sub:\n",
        "          # print(\"hello\")\n",
        "  \n",
        "\n",
        "  ## get td list\n",
        "  td_list=[]\n",
        "  # for tb in table_body[1::]:\n",
        "  for tb in table_body:\n",
        "    # print(type(tb))\n",
        "    tds = tb.find_all('td',{\"style\": True} )\n",
        "    print(\"here is a tr block td data\")\n",
        "    # print(rows)\n",
        "    print(len(tds))\n",
        "   \n",
        "    for td in tds:\n",
        "      span=td.find_all('span',{\"class\":\"gene\"})\n",
        "      # span_name=[y.text.strip() for y in span]\n",
        "      print(span)# \n",
        "\n",
        "\n",
        "    # rows = table_body[1].find_all('td')\n",
        "    # print(rows)\n",
        "    # print(len(rows))\n",
        "\n",
        "    # names=[]\n",
        "    # hrefs=[]\n",
        "    # row and column handle\n",
        "    for row in rows[3:4]:  ## td3\n",
        "      cols=row.find_all('a')\n",
        "      href=[url + x.get('href') for x in cols if x.get('href') is not None ]\n",
        "      # conc_href=url+href\n",
        "      name=[y.text.strip() for y in cols]\n",
        "      # cols=[x.text.strip() for x in cols]\n",
        "      print(len(href))\n",
        "      print(len(name))\n",
        "      # names.append(name)\n",
        "      # hrefs.append(href)\n",
        "      # c=dict(zip(name,href))\n",
        "      c=dict(zip(name,href))  ## test\n",
        "      # print(hrefs)\n",
        "      # print(names)\n",
        "      # print(list(c))\n",
        "      # print(c)\n",
        "      for k,v in c.items():\n",
        "        print(k)\n",
        "        print(v)\n",
        "        response_sub= requests.get(v)\n",
        "        html_sub=response_sub.content.decode(\"gbk\")\n",
        "        bs_sub = BeautifulSoup(html_sub, \"html.parser\")\n",
        "        # print(bs_sub)\n",
        "        # table_body_sub = bs_sub.find('tr')\n",
        "        rows_sub = bs_sub.find_all('td')\n",
        "        # print(rows_sub)\n",
        "\n",
        "        # p_names=[]\n",
        "        # p_hrefs=[]\n",
        "        # for line in rows_sub: ## test\n",
        "        for line in rows_sub:\n",
        "          # print(\"hello\")\n",
        "          # print(len(rows_sub))\n",
        "          # print(\"hi\")\n",
        "          cols_sub=line.find_all('a')\n",
        "          # print(\"hello\")\n",
        "          # print(cols_sub)\n",
        "          # print(\"hi\")\n",
        "          if len(cols_sub) == 1:\n",
        "            p_href=[url + x.get('href')  for x in cols_sub if x.get('href').startswith(\"gpprotdata\")]\n",
        "            p_name=[y.text.strip() for y in cols_sub]\n",
        "            # print(\"hello\")\n",
        "            # print(p_href)\n",
        "            # print(p_name)\n",
        "            if len(p_href) != 0:\n",
        "              c_sub=dict(zip(p_name,p_href))\n",
        "              # print(c_sub)\n",
        "              \n",
        "              for k1,v1 in c_sub.items():\n",
        "                # print(v1)\n",
        "                response_sub_sub= requests.get(v1)\n",
        "                html_sub_sub=response_sub_sub.content.decode(\"gbk\")\n",
        "                bs_sub_sub = BeautifulSoup(html_sub_sub, \"html.parser\")\n",
        "                # print(bs_sub_sub)\n",
        "                rows_sub_sub = bs_sub_sub.find_all('a')\n",
        "                rows_sub_sub=rows_sub_sub[1:]\n",
        "                # print(rows_sub_sub)\n",
        "                ncbi_href=[x.get('href')  for x in rows_sub_sub if x.get('href').startswith(\"http://www.ncbi\")]\n",
        "                ncbi_name=[y.text.strip() for y in rows_sub_sub]\n",
        "                # print(ncbi_href[1])\n",
        "                # print(ncbi_name)\n",
        "                k_s = k + \"-\" + k1\n",
        "                print(k_s)\n",
        "                print(ncbi_href[0])\n",
        "                new_dic[k_s]=ncbi_href[0] ## 0 fasta 1 genebank\n",
        "                \n",
        "\n",
        "\n",
        "\n",
        "          else:\n",
        "            pass\n",
        "\n",
        "    return new_dic\n",
        "\n",
        "def main():\n",
        "  dictObj = get_data(url)  \n",
        "  jsObj = json.dumps(dictObj, indent=4)\n",
        "  fileObject = open('./fungene.json', 'w') \n",
        "  fileObject.write(jsObj) \n",
        "  fileObject.close()\n",
        "\n",
        "if __name__ == '__main__':\n",
        "    main()\n",
        "    # print(__name__)\n",
        "     \n",
        "  \n",
        "    "
      ],
      "execution_count": null,
      "outputs": [
        {
          "output_type": "stream",
          "text": [
            "Drive already mounted at /content/gdrive; to attempt to forcibly remount, call drive.mount(\"/content/gdrive\", force_remount=True).\n",
            "What you are scrapying is a table...\n",
            "all the table number is 4\n",
            "What you are scrapying is a table...\n",
            "all the table number is 4\n",
            "What you are scrapying is a table...\n",
            "all the table number is 4\n",
            "What you are scrapying is a table...\n",
            "all the table number is 4\n",
            "here is a tr block td data\n",
            "all the table section number is 8\n",
            "{'aac2i': 'http://fungene.cme.msu.edu/hmm_detail.spr?hmm_id=174', 'aac2ia': 'http://fungene.cme.msu.edu/hmm_detail.spr?hmm_id=66', 'aac2ib': 'http://fungene.cme.msu.edu/hmm_detail.spr?hmm_id=147', 'aac2ic': 'http://fungene.cme.msu.edu/hmm_detail.spr?hmm_id=253', 'aac2id': 'http://fungene.cme.msu.edu/hmm_detail.spr?hmm_id=158', 'aac3ia': 'http://fungene.cme.msu.edu/hmm_detail.spr?hmm_id=59', 'aac3iia': 'http://fungene.cme.msu.edu/hmm_detail.spr?hmm_id=295', 'aac3iib': 'http://fungene.cme.msu.edu/hmm_detail.spr?hmm_id=165', 'aac3iii': 'http://fungene.cme.msu.edu/hmm_detail.spr?hmm_id=83', 'aac3iv': 'http://fungene.cme.msu.edu/hmm_detail.spr?hmm_id=278', 'aac3ix': 'http://fungene.cme.msu.edu/hmm_detail.spr?hmm_id=93', 'aac3vii': 'http://fungene.cme.msu.edu/hmm_detail.spr?hmm_id=153', 'aac3viii': 'http://fungene.cme.msu.edu/hmm_detail.spr?hmm_id=193', 'aac3x': 'http://fungene.cme.msu.edu/hmm_detail.spr?hmm_id=294', 'aac6i': 'http://fungene.cme.msu.edu/hmm_detail.spr?hmm_id=298', 'aac6ia': 'http://fungene.cme.msu.edu/hmm_detail.spr?hmm_id=127', 'aac6ic': 'http://fungene.cme.msu.edu/hmm_detail.spr?hmm_id=166', 'aac6ie': 'http://fungene.cme.msu.edu/hmm_detail.spr?hmm_id=211', 'aac6if': 'http://fungene.cme.msu.edu/hmm_detail.spr?hmm_id=71', 'aac6ig': 'http://fungene.cme.msu.edu/hmm_detail.spr?hmm_id=200', 'aac6iia': 'http://fungene.cme.msu.edu/hmm_detail.spr?hmm_id=63', 'aac6iib': 'http://fungene.cme.msu.edu/hmm_detail.spr?hmm_id=163', 'aad9': 'http://fungene.cme.msu.edu/hmm_detail.spr?hmm_id=214', 'aad9ib': 'http://fungene.cme.msu.edu/hmm_detail.spr?hmm_id=188', 'acet_catB': 'http://fungene.cme.msu.edu/hmm_detail.spr?hmm_id=384', 'acety_sat': 'http://fungene.cme.msu.edu/hmm_detail.spr?hmm_id=385', 'acety_vat': 'http://fungene.cme.msu.edu/hmm_detail.spr?hmm_id=386', 'acrb': 'http://fungene.cme.msu.edu/hmm_detail.spr?hmm_id=55', 'ACT': 'http://fungene.cme.msu.edu/hmm_detail.spr?hmm_id=541', 'adea': 'http://fungene.cme.msu.edu/hmm_detail.spr?hmm_id=255', 'adeb': 'http://fungene.cme.msu.edu/hmm_detail.spr?hmm_id=120', 'adec': 'http://fungene.cme.msu.edu/hmm_detail.spr?hmm_id=243', 'amik_aac': 'http://fungene.cme.msu.edu/hmm_detail.spr?hmm_id=387', 'amin_aph': 'http://fungene.cme.msu.edu/hmm_detail.spr?hmm_id=388', 'amino_aadK': 'http://fungene.cme.msu.edu/hmm_detail.spr?hmm_id=389', 'amra': 'http://fungene.cme.msu.edu/hmm_detail.spr?hmm_id=149', 'amrb': 'http://fungene.cme.msu.edu/hmm_detail.spr?hmm_id=65', 'ant2ib': 'http://fungene.cme.msu.edu/hmm_detail.spr?hmm_id=40', 'ant4iia': 'http://fungene.cme.msu.edu/hmm_detail.spr?hmm_id=197', 'ant6ia': 'http://fungene.cme.msu.edu/hmm_detail.spr?hmm_id=216', 'aph33ia': 'http://fungene.cme.msu.edu/hmm_detail.spr?hmm_id=126', 'aph33ib': 'http://fungene.cme.msu.edu/hmm_detail.spr?hmm_id=107', 'aph3ia': 'http://fungene.cme.msu.edu/hmm_detail.spr?hmm_id=51', 'aph3ib': 'http://fungene.cme.msu.edu/hmm_detail.spr?hmm_id=251', 'aph3ic': 'http://fungene.cme.msu.edu/hmm_detail.spr?hmm_id=133', 'aph3iva': 'http://fungene.cme.msu.edu/hmm_detail.spr?hmm_id=113', 'aph3va': 'http://fungene.cme.msu.edu/hmm_detail.spr?hmm_id=189', 'aph3vb': 'http://fungene.cme.msu.edu/hmm_detail.spr?hmm_id=87', 'aph3via': 'http://fungene.cme.msu.edu/hmm_detail.spr?hmm_id=134', 'aph3viia': 'http://fungene.cme.msu.edu/hmm_detail.spr?hmm_id=223', 'aph4ib': 'http://fungene.cme.msu.edu/hmm_detail.spr?hmm_id=240', 'aph6ia': 'http://fungene.cme.msu.edu/hmm_detail.spr?hmm_id=135', 'aph6ib': 'http://fungene.cme.msu.edu/hmm_detail.spr?hmm_id=79', 'aph6ic': 'http://fungene.cme.msu.edu/hmm_detail.spr?hmm_id=82', 'apsA': 'http://fungene.cme.msu.edu/hmm_detail.spr?hmm_id=515', 'arna': 'http://fungene.cme.msu.edu/hmm_detail.spr?hmm_id=85', 'ATP_vga': 'http://fungene.cme.msu.edu/hmm_detail.spr?hmm_id=390', 'bac_bacA': 'http://fungene.cme.msu.edu/hmm_detail.spr?hmm_id=392', 'bac_bacA2': 'http://fungene.cme.msu.edu/hmm_detail.spr?hmm_id=391', 'bcra': 'http://fungene.cme.msu.edu/hmm_detail.spr?hmm_id=142', 'bcrc': 'http://fungene.cme.msu.edu/hmm_detail.spr?hmm_id=122', 'BEL': 'http://fungene.cme.msu.edu/hmm_detail.spr?hmm_id=542', 'beta_blaCMY': 'http://fungene.cme.msu.edu/hmm_detail.spr?hmm_id=393', 'beta_blaIMP': 'http://fungene.cme.msu.edu/hmm_detail.spr?hmm_id=394', 'beta_blaVIM': 'http://fungene.cme.msu.edu/hmm_detail.spr?hmm_id=395', 'beta_ccra': 'http://fungene.cme.msu.edu/hmm_detail.spr?hmm_id=396', 'beta_cfiA': 'http://fungene.cme.msu.edu/hmm_detail.spr?hmm_id=397', 'beta_imiR': 'http://fungene.cme.msu.edu/hmm_detail.spr?hmm_id=398', 'beta_intI1': 'http://fungene.cme.msu.edu/hmm_detail.spr?hmm_id=399', 'beta_IS6': 'http://fungene.cme.msu.edu/hmm_detail.spr?hmm_id=400', 'beta_nmc-R': 'http://fungene.cme.msu.edu/hmm_detail.spr?hmm_id=401', 'beta_tnpA': 'http://fungene.cme.msu.edu/hmm_detail.spr?hmm_id=403', 'beta_tnpA2': 'http://fungene.cme.msu.edu/hmm_detail.spr?hmm_id=402', 'bet_blaSHV': 'http://fungene.cme.msu.edu/hmm_detail.spr?hmm_id=404', 'bet_ompK': 'http://fungene.cme.msu.edu/hmm_detail.spr?hmm_id=405', 'bet_tnpA': 'http://fungene.cme.msu.edu/hmm_detail.spr?hmm_id=406', 'bl1_acc': 'http://fungene.cme.msu.edu/hmm_detail.spr?hmm_id=225', 'bl1_asba': 'http://fungene.cme.msu.edu/hmm_detail.spr?hmm_id=110', 'bl1_ceps': 'http://fungene.cme.msu.edu/hmm_detail.spr?hmm_id=209', 'bl1_ec': 'http://fungene.cme.msu.edu/hmm_detail.spr?hmm_id=207', 'bl1_fox': 'http://fungene.cme.msu.edu/hmm_detail.spr?hmm_id=266', 'bl1_mox': 'http://fungene.cme.msu.edu/hmm_detail.spr?hmm_id=222', 'bl1_och': 'http://fungene.cme.msu.edu/hmm_detail.spr?hmm_id=49', 'bl1_pao': 'http://fungene.cme.msu.edu/hmm_detail.spr?hmm_id=104', 'bl1_pse': 'http://fungene.cme.msu.edu/hmm_detail.spr?hmm_id=162', 'bl2a_1': 'http://fungene.cme.msu.edu/hmm_detail.spr?hmm_id=167', 'bl2a_exo': 'http://fungene.cme.msu.edu/hmm_detail.spr?hmm_id=271', 'bl2a_iii': 'http://fungene.cme.msu.edu/hmm_detail.spr?hmm_id=39', 'bl2a_iii2': 'http://fungene.cme.msu.edu/hmm_detail.spr?hmm_id=116', 'bl2a_kcc': 'http://fungene.cme.msu.edu/hmm_detail.spr?hmm_id=247', 'bl2a_nps': 'http://fungene.cme.msu.edu/hmm_detail.spr?hmm_id=297', 'bl2a_okp': 'http://fungene.cme.msu.edu/hmm_detail.spr?hmm_id=84', 'bl2be_oxy1': 'http://fungene.cme.msu.edu/hmm_detail.spr?hmm_id=262', 'bl2b_rob': 'http://fungene.cme.msu.edu/hmm_detail.spr?hmm_id=286', 'bl2b_tem': 'http://fungene.cme.msu.edu/hmm_detail.spr?hmm_id=139', 'bl2b_tem2': 'http://fungene.cme.msu.edu/hmm_detail.spr?hmm_id=80', 'bl2b_tle': 'http://fungene.cme.msu.edu/hmm_detail.spr?hmm_id=72', 'bl2b_ula': 'http://fungene.cme.msu.edu/hmm_detail.spr?hmm_id=102', 'bl2c_bro': 'http://fungene.cme.msu.edu/hmm_detail.spr?hmm_id=45', 'bl2c_pse1': 'http://fungene.cme.msu.edu/hmm_detail.spr?hmm_id=235', 'bl2c_pse3': 'http://fungene.cme.msu.edu/hmm_detail.spr?hmm_id=274', 'bl2d_lcr1': 'http://fungene.cme.msu.edu/hmm_detail.spr?hmm_id=118', 'bl2d_moxa': 'http://fungene.cme.msu.edu/hmm_detail.spr?hmm_id=206', 'bl2d_oxa10': 'http://fungene.cme.msu.edu/hmm_detail.spr?hmm_id=81', 'bl2d_oxa5': 'http://fungene.cme.msu.edu/hmm_detail.spr?hmm_id=208', 'bl2d_oxa9': 'http://fungene.cme.msu.edu/hmm_detail.spr?hmm_id=170', 'bl2d_r39': 'http://fungene.cme.msu.edu/hmm_detail.spr?hmm_id=76', 'bl2e_cbla': 'http://fungene.cme.msu.edu/hmm_detail.spr?hmm_id=77', 'bl2e_fpm': 'http://fungene.cme.msu.edu/hmm_detail.spr?hmm_id=114', 'bl2e_y56': 'http://fungene.cme.msu.edu/hmm_detail.spr?hmm_id=58', 'bl2f_nmca': 'http://fungene.cme.msu.edu/hmm_detail.spr?hmm_id=181', 'bl2f_sme1': 'http://fungene.cme.msu.edu/hmm_detail.spr?hmm_id=300', 'bl2_kpc': 'http://fungene.cme.msu.edu/hmm_detail.spr?hmm_id=227', 'bl2_len': 'http://fungene.cme.msu.edu/hmm_detail.spr?hmm_id=205', 'bl2_veb': 'http://fungene.cme.msu.edu/hmm_detail.spr?hmm_id=48', 'bl3_ccra': 'http://fungene.cme.msu.edu/hmm_detail.spr?hmm_id=168', 'bl3_cit': 'http://fungene.cme.msu.edu/hmm_detail.spr?hmm_id=229', 'bl3_cpha': 'http://fungene.cme.msu.edu/hmm_detail.spr?hmm_id=289', 'bl3_gim': 'http://fungene.cme.msu.edu/hmm_detail.spr?hmm_id=203', 'bl3_l': 'http://fungene.cme.msu.edu/hmm_detail.spr?hmm_id=46', 'bl3_shw': 'http://fungene.cme.msu.edu/hmm_detail.spr?hmm_id=213', 'bl3_sim': 'http://fungene.cme.msu.edu/hmm_detail.spr?hmm_id=169', 'blt': 'http://fungene.cme.msu.edu/hmm_detail.spr?hmm_id=154', 'bmr': 'http://fungene.cme.msu.edu/hmm_detail.spr?hmm_id=218', 'cara': 'http://fungene.cme.msu.edu/hmm_detail.spr?hmm_id=304', 'CARB': 'http://fungene.cme.msu.edu/hmm_detail.spr?hmm_id=543', 'cata10': 'http://fungene.cme.msu.edu/hmm_detail.spr?hmm_id=130', 'cata11': 'http://fungene.cme.msu.edu/hmm_detail.spr?hmm_id=121', 'cata13': 'http://fungene.cme.msu.edu/hmm_detail.spr?hmm_id=277', 'cata14': 'http://fungene.cme.msu.edu/hmm_detail.spr?hmm_id=52', 'cata15': 'http://fungene.cme.msu.edu/hmm_detail.spr?hmm_id=269', 'cata16': 'http://fungene.cme.msu.edu/hmm_detail.spr?hmm_id=150', 'cata2': 'http://fungene.cme.msu.edu/hmm_detail.spr?hmm_id=232', 'cata3': 'http://fungene.cme.msu.edu/hmm_detail.spr?hmm_id=155', 'cata4': 'http://fungene.cme.msu.edu/hmm_detail.spr?hmm_id=280', 'cata5': 'http://fungene.cme.msu.edu/hmm_detail.spr?hmm_id=185', 'cata6': 'http://fungene.cme.msu.edu/hmm_detail.spr?hmm_id=101', 'catb1': 'http://fungene.cme.msu.edu/hmm_detail.spr?hmm_id=117', 'catb2': 'http://fungene.cme.msu.edu/hmm_detail.spr?hmm_id=64', 'catb3': 'http://fungene.cme.msu.edu/hmm_detail.spr?hmm_id=270', 'catb4': 'http://fungene.cme.msu.edu/hmm_detail.spr?hmm_id=231', 'catb5': 'http://fungene.cme.msu.edu/hmm_detail.spr?hmm_id=215', 'cefa_ampc': 'http://fungene.cme.msu.edu/hmm_detail.spr?hmm_id=407', 'cefa_oxa': 'http://fungene.cme.msu.edu/hmm_detail.spr?hmm_id=408', 'cefa_qacEdelta': 'http://fungene.cme.msu.edu/hmm_detail.spr?hmm_id=409', 'cefe_Qacdelta': 'http://fungene.cme.msu.edu/hmm_detail.spr?hmm_id=410', 'ceoa': 'http://fungene.cme.msu.edu/hmm_detail.spr?hmm_id=303', 'ceob': 'http://fungene.cme.msu.edu/hmm_detail.spr?hmm_id=292', 'cfr3': 'http://fungene.cme.msu.edu/hmm_detail.spr?hmm_id=411', 'chl_cmlA': 'http://fungene.cme.msu.edu/hmm_detail.spr?hmm_id=412', 'chlo_CMR': 'http://fungene.cme.msu.edu/hmm_detail.spr?hmm_id=413', 'chlor_araJ': 'http://fungene.cme.msu.edu/hmm_detail.spr?hmm_id=414', 'chlo_rarD': 'http://fungene.cme.msu.edu/hmm_detail.spr?hmm_id=415', 'cipr_grlA': 'http://fungene.cme.msu.edu/hmm_detail.spr?hmm_id=420', 'cipr_grlA2': 'http://fungene.cme.msu.edu/hmm_detail.spr?hmm_id=416', 'cipr_grlA3': 'http://fungene.cme.msu.edu/hmm_detail.spr?hmm_id=417', 'cipr_grlA4': 'http://fungene.cme.msu.edu/hmm_detail.spr?hmm_id=418', 'cipr_grlA5': 'http://fungene.cme.msu.edu/hmm_detail.spr?hmm_id=419', 'cipr_gyrA1': 'http://fungene.cme.msu.edu/hmm_detail.spr?hmm_id=421', 'clind_cfr': 'http://fungene.cme.msu.edu/hmm_detail.spr?hmm_id=423', 'clind_cfr2': 'http://fungene.cme.msu.edu/hmm_detail.spr?hmm_id=422', 'clind_rrna': 'http://fungene.cme.msu.edu/hmm_detail.spr?hmm_id=424', 'cml_e2': 'http://fungene.cme.msu.edu/hmm_detail.spr?hmm_id=42', 'cml_e3': 'http://fungene.cme.msu.edu/hmm_detail.spr?hmm_id=237', 'cml_e5': 'http://fungene.cme.msu.edu/hmm_detail.spr?hmm_id=119', 'cml_e6': 'http://fungene.cme.msu.edu/hmm_detail.spr?hmm_id=199', 'cml_e7': 'http://fungene.cme.msu.edu/hmm_detail.spr?hmm_id=254', 'cml_e8': 'http://fungene.cme.msu.edu/hmm_detail.spr?hmm_id=287', 'CMY': 'http://fungene.cme.msu.edu/hmm_detail.spr?hmm_id=544', 'cprA': 'http://fungene.cme.msu.edu/hmm_detail.spr?hmm_id=6', 'cprB': 'http://fungene.cme.msu.edu/hmm_detail.spr?hmm_id=7', 'CTX-M': 'http://fungene.cme.msu.edu/hmm_detail.spr?hmm_id=535', 'dfra1': 'http://fungene.cme.msu.edu/hmm_detail.spr?hmm_id=195', 'dfra10': 'http://fungene.cme.msu.edu/hmm_detail.spr?hmm_id=89', 'dfra12': 'http://fungene.cme.msu.edu/hmm_detail.spr?hmm_id=273', 'dfra13': 'http://fungene.cme.msu.edu/hmm_detail.spr?hmm_id=250', 'dfra14': 'http://fungene.cme.msu.edu/hmm_detail.spr?hmm_id=97', 'dfra15': 'http://fungene.cme.msu.edu/hmm_detail.spr?hmm_id=233', 'dfra16': 'http://fungene.cme.msu.edu/hmm_detail.spr?hmm_id=228', 'dfra17': 'http://fungene.cme.msu.edu/hmm_detail.spr?hmm_id=132', 'dfra19': 'http://fungene.cme.msu.edu/hmm_detail.spr?hmm_id=293', 'dfra20': 'http://fungene.cme.msu.edu/hmm_detail.spr?hmm_id=212', 'dfra21': 'http://fungene.cme.msu.edu/hmm_detail.spr?hmm_id=217', 'dfra22': 'http://fungene.cme.msu.edu/hmm_detail.spr?hmm_id=283', 'dfra23': 'http://fungene.cme.msu.edu/hmm_detail.spr?hmm_id=106', 'dfra24': 'http://fungene.cme.msu.edu/hmm_detail.spr?hmm_id=256', 'dfra25': 'http://fungene.cme.msu.edu/hmm_detail.spr?hmm_id=259', 'dfra26': 'http://fungene.cme.msu.edu/hmm_detail.spr?hmm_id=296', 'dfra5': 'http://fungene.cme.msu.edu/hmm_detail.spr?hmm_id=100', 'dfra7': 'http://fungene.cme.msu.edu/hmm_detail.spr?hmm_id=159', 'dfrA7': 'http://fungene.cme.msu.edu/hmm_detail.spr?hmm_id=740', 'dfrb1': 'http://fungene.cme.msu.edu/hmm_detail.spr?hmm_id=47', 'dfrb2': 'http://fungene.cme.msu.edu/hmm_detail.spr?hmm_id=279', 'dfrb3': 'http://fungene.cme.msu.edu/hmm_detail.spr?hmm_id=307', 'dfrb6': 'http://fungene.cme.msu.edu/hmm_detail.spr?hmm_id=86', 'doxy_tetM': 'http://fungene.cme.msu.edu/hmm_detail.spr?hmm_id=425', 'efflux_met': 'http://fungene.cme.msu.edu/hmm_detail.spr?hmm_id=426', 'emrd': 'http://fungene.cme.msu.edu/hmm_detail.spr?hmm_id=276', 'emre': 'http://fungene.cme.msu.edu/hmm_detail.spr?hmm_id=265', 'erea': 'http://fungene.cme.msu.edu/hmm_detail.spr?hmm_id=95', 'ereb': 'http://fungene.cme.msu.edu/hmm_detail.spr?hmm_id=70', 'ermd': 'http://fungene.cme.msu.edu/hmm_detail.spr?hmm_id=148', 'erme': 'http://fungene.cme.msu.edu/hmm_detail.spr?hmm_id=187', 'ermg': 'http://fungene.cme.msu.edu/hmm_detail.spr?hmm_id=226', 'ermh': 'http://fungene.cme.msu.edu/hmm_detail.spr?hmm_id=245', 'ermn': 'http://fungene.cme.msu.edu/hmm_detail.spr?hmm_id=282', 'ermo': 'http://fungene.cme.msu.edu/hmm_detail.spr?hmm_id=248', 'ermq': 'http://fungene.cme.msu.edu/hmm_detail.spr?hmm_id=96', 'ermr': 'http://fungene.cme.msu.edu/hmm_detail.spr?hmm_id=88', 'erms': 'http://fungene.cme.msu.edu/hmm_detail.spr?hmm_id=67', 'ermu': 'http://fungene.cme.msu.edu/hmm_detail.spr?hmm_id=238', 'ermv': 'http://fungene.cme.msu.edu/hmm_detail.spr?hmm_id=194', 'ermw': 'http://fungene.cme.msu.edu/hmm_detail.spr?hmm_id=202', 'eryt_erm': 'http://fungene.cme.msu.edu/hmm_detail.spr?hmm_id=430', 'eryt_erm1': 'http://fungene.cme.msu.edu/hmm_detail.spr?hmm_id=427', 'eryt_erm2': 'http://fungene.cme.msu.edu/hmm_detail.spr?hmm_id=428', 'eryt_erm3': 'http://fungene.cme.msu.edu/hmm_detail.spr?hmm_id=429', 'eryt_msr': 'http://fungene.cme.msu.edu/hmm_detail.spr?hmm_id=431', 'fosa': 'http://fungene.cme.msu.edu/hmm_detail.spr?hmm_id=50', 'fosb': 'http://fungene.cme.msu.edu/hmm_detail.spr?hmm_id=290', 'fosc': 'http://fungene.cme.msu.edu/hmm_detail.spr?hmm_id=91', 'fosx': 'http://fungene.cme.msu.edu/hmm_detail.spr?hmm_id=138', 'fosy_fosB': 'http://fungene.cme.msu.edu/hmm_detail.spr?hmm_id=432', 'FOX': 'http://fungene.cme.msu.edu/hmm_detail.spr?hmm_id=545', 'fush': 'http://fungene.cme.msu.edu/hmm_detail.spr?hmm_id=192', 'gapA': 'http://fungene.cme.msu.edu/hmm_detail.spr?hmm_id=516', 'gent_aac': 'http://fungene.cme.msu.edu/hmm_detail.spr?hmm_id=436', 'gent_aac2': 'http://fungene.cme.msu.edu/hmm_detail.spr?hmm_id=433', 'gent_aac3': 'http://fungene.cme.msu.edu/hmm_detail.spr?hmm_id=434', 'gent_aac4': 'http://fungene.cme.msu.edu/hmm_detail.spr?hmm_id=435', 'GES': 'http://fungene.cme.msu.edu/hmm_detail.spr?hmm_id=546', 'hydro_vgb': 'http://fungene.cme.msu.edu/hmm_detail.spr?hmm_id=437', 'IMI': 'http://fungene.cme.msu.edu/hmm_detail.spr?hmm_id=547', 'IMP': 'http://fungene.cme.msu.edu/hmm_detail.spr?hmm_id=538', 'IncW_trwA': 'http://fungene.cme.msu.edu/hmm_detail.spr?hmm_id=517', 'IncW_trwB': 'http://fungene.cme.msu.edu/hmm_detail.spr?hmm_id=518', 'IND': 'http://fungene.cme.msu.edu/hmm_detail.spr?hmm_id=548', 'intI': 'http://fungene.cme.msu.edu/hmm_detail.spr?hmm_id=13', 'intI1': 'http://fungene.cme.msu.edu/hmm_detail.spr?hmm_id=741', 'intI1_sub1': 'http://fungene.cme.msu.edu/hmm_detail.spr?hmm_id=519', 'intI1_sub2': 'http://fungene.cme.msu.edu/hmm_detail.spr?hmm_id=520', 'intI2': 'http://fungene.cme.msu.edu/hmm_detail.spr?hmm_id=742', 'intI3': 'http://fungene.cme.msu.edu/hmm_detail.spr?hmm_id=522', 'ison_katG': 'http://fungene.cme.msu.edu/hmm_detail.spr?hmm_id=438', 'kana_aahD': 'http://fungene.cme.msu.edu/hmm_detail.spr?hmm_id=439', 'kana_aph2': 'http://fungene.cme.msu.edu/hmm_detail.spr?hmm_id=440', 'KPC': 'http://fungene.cme.msu.edu/hmm_detail.spr?hmm_id=540', 'ksga': 'http://fungene.cme.msu.edu/hmm_detail.spr?hmm_id=157', 'lmrb': 'http://fungene.cme.msu.edu/hmm_detail.spr?hmm_id=186', 'lsa': 'http://fungene.cme.msu.edu/hmm_detail.spr?hmm_id=74', 'maca': 'http://fungene.cme.msu.edu/hmm_detail.spr?hmm_id=75', 'macb': 'http://fungene.cme.msu.edu/hmm_detail.spr?hmm_id=125', 'mcr1_2_6': 'http://fungene.cme.msu.edu/hmm_detail.spr?hmm_id=818', 'mcr3_7_9': 'http://fungene.cme.msu.edu/hmm_detail.spr?hmm_id=819', 'mcr4': 'http://fungene.cme.msu.edu/hmm_detail.spr?hmm_id=820', 'mdh_sub1': 'http://fungene.cme.msu.edu/hmm_detail.spr?hmm_id=523', 'mdh_sub2': 'http://fungene.cme.msu.edu/hmm_detail.spr?hmm_id=524', 'mdte': 'http://fungene.cme.msu.edu/hmm_detail.spr?hmm_id=275', 'mdtf': 'http://fungene.cme.msu.edu/hmm_detail.spr?hmm_id=180', 'mdtg': 'http://fungene.cme.msu.edu/hmm_detail.spr?hmm_id=249', 'mdth': 'http://fungene.cme.msu.edu/hmm_detail.spr?hmm_id=98', 'mdtk': 'http://fungene.cme.msu.edu/hmm_detail.spr?hmm_id=54', 'mdtl': 'http://fungene.cme.msu.edu/hmm_detail.spr?hmm_id=140', 'mdtm': 'http://fungene.cme.msu.edu/hmm_detail.spr?hmm_id=244', 'mdtn': 'http://fungene.cme.msu.edu/hmm_detail.spr?hmm_id=115', 'mdto': 'http://fungene.cme.msu.edu/hmm_detail.spr?hmm_id=230', 'mdtp': 'http://fungene.cme.msu.edu/hmm_detail.spr?hmm_id=53', 'mexa': 'http://fungene.cme.msu.edu/hmm_detail.spr?hmm_id=260', 'mexc': 'http://fungene.cme.msu.edu/hmm_detail.spr?hmm_id=90', 'mexd': 'http://fungene.cme.msu.edu/hmm_detail.spr?hmm_id=302', 'mexh': 'http://fungene.cme.msu.edu/hmm_detail.spr?hmm_id=196', 'mexi': 'http://fungene.cme.msu.edu/hmm_detail.spr?hmm_id=144', 'mexw': 'http://fungene.cme.msu.edu/hmm_detail.spr?hmm_id=190', 'mexx': 'http://fungene.cme.msu.edu/hmm_detail.spr?hmm_id=263', 'mexy': 'http://fungene.cme.msu.edu/hmm_detail.spr?hmm_id=252', 'mfpa': 'http://fungene.cme.msu.edu/hmm_detail.spr?hmm_id=131', 'mfpA_RDP': 'http://fungene.cme.msu.edu/hmm_detail.spr?hmm_id=821', 'MIR': 'http://fungene.cme.msu.edu/hmm_detail.spr?hmm_id=549', 'MOX': 'http://fungene.cme.msu.edu/hmm_detail.spr?hmm_id=550', 'mpha': 'http://fungene.cme.msu.edu/hmm_detail.spr?hmm_id=239', 'NDM': 'http://fungene.cme.msu.edu/hmm_detail.spr?hmm_id=536', 'neom_aph2': 'http://fungene.cme.msu.edu/hmm_detail.spr?hmm_id=441', 'nitro_nim': 'http://fungene.cme.msu.edu/hmm_detail.spr?hmm_id=442', 'norm': 'http://fungene.cme.msu.edu/hmm_detail.spr?hmm_id=112', 'oleb': 'http://fungene.cme.msu.edu/hmm_detail.spr?hmm_id=61', 'opcm': 'http://fungene.cme.msu.edu/hmm_detail.spr?hmm_id=111', 'opra': 'http://fungene.cme.msu.edu/hmm_detail.spr?hmm_id=173', 'oprd': 'http://fungene.cme.msu.edu/hmm_detail.spr?hmm_id=234', 'oprj': 'http://fungene.cme.msu.edu/hmm_detail.spr?hmm_id=161', 'oprm': 'http://fungene.cme.msu.edu/hmm_detail.spr?hmm_id=178', 'oprn': 'http://fungene.cme.msu.edu/hmm_detail.spr?hmm_id=179', 'otra': 'http://fungene.cme.msu.edu/hmm_detail.spr?hmm_id=60', 'otrb': 'http://fungene.cme.msu.edu/hmm_detail.spr?hmm_id=236', 'OXA': 'http://fungene.cme.msu.edu/hmm_detail.spr?hmm_id=539', 'pbp1a': 'http://fungene.cme.msu.edu/hmm_detail.spr?hmm_id=99', 'pbp1b': 'http://fungene.cme.msu.edu/hmm_detail.spr?hmm_id=68', 'pbp2': 'http://fungene.cme.msu.edu/hmm_detail.spr?hmm_id=183', 'pbp2b': 'http://fungene.cme.msu.edu/hmm_detail.spr?hmm_id=184', 'pbp2x': 'http://fungene.cme.msu.edu/hmm_detail.spr?hmm_id=160', 'pec_aad2': 'http://fungene.cme.msu.edu/hmm_detail.spr?hmm_id=443', 'pen_mecA': 'http://fungene.cme.msu.edu/hmm_detail.spr?hmm_id=444', 'PER': 'http://fungene.cme.msu.edu/hmm_detail.spr?hmm_id=551', 'pmra': 'http://fungene.cme.msu.edu/hmm_detail.spr?hmm_id=137', 'pyaz_pncA': 'http://fungene.cme.msu.edu/hmm_detail.spr?hmm_id=445', 'qacEdelta1': 'http://fungene.cme.msu.edu/hmm_detail.spr?hmm_id=743', 'qnra': 'http://fungene.cme.msu.edu/hmm_detail.spr?hmm_id=261', 'qnrb': 'http://fungene.cme.msu.edu/hmm_detail.spr?hmm_id=151', 'qnrs': 'http://fungene.cme.msu.edu/hmm_detail.spr?hmm_id=146', 'refa_rpoB': 'http://fungene.cme.msu.edu/hmm_detail.spr?hmm_id=447', 'refa_rpoB1': 'http://fungene.cme.msu.edu/hmm_detail.spr?hmm_id=446', 'repA': 'http://fungene.cme.msu.edu/hmm_detail.spr?hmm_id=525', 'rifa_rpb': 'http://fungene.cme.msu.edu/hmm_detail.spr?hmm_id=448', 'rifa_rpoB': 'http://fungene.cme.msu.edu/hmm_detail.spr?hmm_id=450', 'rifa_rpoB2': 'http://fungene.cme.msu.edu/hmm_detail.spr?hmm_id=449', 'rifa_unnamed': 'http://fungene.cme.msu.edu/hmm_detail.spr?hmm_id=451', 'rosa': 'http://fungene.cme.msu.edu/hmm_detail.spr?hmm_id=264', 'rosb': 'http://fungene.cme.msu.edu/hmm_detail.spr?hmm_id=272', 'SHV': 'http://fungene.cme.msu.edu/hmm_detail.spr?hmm_id=552', 'SME': 'http://fungene.cme.msu.edu/hmm_detail.spr?hmm_id=553', 'smea': 'http://fungene.cme.msu.edu/hmm_detail.spr?hmm_id=44', 'smeb': 'http://fungene.cme.msu.edu/hmm_detail.spr?hmm_id=182', 'smec': 'http://fungene.cme.msu.edu/hmm_detail.spr?hmm_id=128', 'smed': 'http://fungene.cme.msu.edu/hmm_detail.spr?hmm_id=284', 'smee': 'http://fungene.cme.msu.edu/hmm_detail.spr?hmm_id=219', 'smef': 'http://fungene.cme.msu.edu/hmm_detail.spr?hmm_id=108', 'spec_aad': 'http://fungene.cme.msu.edu/hmm_detail.spr?hmm_id=455', 'spec_aad1': 'http://fungene.cme.msu.edu/hmm_detail.spr?hmm_id=452', 'spec_aad3': 'http://fungene.cme.msu.edu/hmm_detail.spr?hmm_id=453', 'spec_aad4': 'http://fungene.cme.msu.edu/hmm_detail.spr?hmm_id=454', 'spec_aph': 'http://fungene.cme.msu.edu/hmm_detail.spr?hmm_id=456', 'spec_spcN': 'http://fungene.cme.msu.edu/hmm_detail.spr?hmm_id=457', 'srmb': 'http://fungene.cme.msu.edu/hmm_detail.spr?hmm_id=191', 'sta': 'http://fungene.cme.msu.edu/hmm_detail.spr?hmm_id=241', 'strA': 'http://fungene.cme.msu.edu/hmm_detail.spr?hmm_id=458', 'strB': 'http://fungene.cme.msu.edu/hmm_detail.spr?hmm_id=459', 'stre_aphE': 'http://fungene.cme.msu.edu/hmm_detail.spr?hmm_id=460', 'strept_aad': 'http://fungene.cme.msu.edu/hmm_detail.spr?hmm_id=461', 'sul1': 'http://fungene.cme.msu.edu/hmm_detail.spr?hmm_id=285', 'sul3': 'http://fungene.cme.msu.edu/hmm_detail.spr?hmm_id=62', 'sulp_sul': 'http://fungene.cme.msu.edu/hmm_detail.spr?hmm_id=462', 'tcma': 'http://fungene.cme.msu.edu/hmm_detail.spr?hmm_id=201', 'tcr3': 'http://fungene.cme.msu.edu/hmm_detail.spr?hmm_id=221', 'TEM': 'http://fungene.cme.msu.edu/hmm_detail.spr?hmm_id=554', 'tet': 'http://fungene.cme.msu.edu/hmm_detail.spr?hmm_id=469', 'tet1': 'http://fungene.cme.msu.edu/hmm_detail.spr?hmm_id=463', 'tet2': 'http://fungene.cme.msu.edu/hmm_detail.spr?hmm_id=464', 'tet3': 'http://fungene.cme.msu.edu/hmm_detail.spr?hmm_id=465', 'tet31': 'http://fungene.cme.msu.edu/hmm_detail.spr?hmm_id=299', 'tet33': 'http://fungene.cme.msu.edu/hmm_detail.spr?hmm_id=43', 'tet39': 'http://fungene.cme.msu.edu/hmm_detail.spr?hmm_id=281', 'tet4': 'http://fungene.cme.msu.edu/hmm_detail.spr?hmm_id=466', 'tet40': 'http://fungene.cme.msu.edu/hmm_detail.spr?hmm_id=69', 'tetA_RDP': 'http://fungene.cme.msu.edu/hmm_detail.spr?hmm_id=822', 'tetc': 'http://fungene.cme.msu.edu/hmm_detail.spr?hmm_id=136', 'tetC': 'http://fungene.cme.msu.edu/hmm_detail.spr?hmm_id=467', 'tetC_RDP': 'http://fungene.cme.msu.edu/hmm_detail.spr?hmm_id=823', 'tete': 'http://fungene.cme.msu.edu/hmm_detail.spr?hmm_id=177', 'tetM': 'http://fungene.cme.msu.edu/hmm_detail.spr?hmm_id=32', 'tetM_RDP': 'http://fungene.cme.msu.edu/hmm_detail.spr?hmm_id=824', 'tetO_RDP': 'http://fungene.cme.msu.edu/hmm_detail.spr?hmm_id=825', 'tet_otrB': 'http://fungene.cme.msu.edu/hmm_detail.spr?hmm_id=468', 'tetpb': 'http://fungene.cme.msu.edu/hmm_detail.spr?hmm_id=105', 'tetQ': 'http://fungene.cme.msu.edu/hmm_detail.spr?hmm_id=33', 'tetS': 'http://fungene.cme.msu.edu/hmm_detail.spr?hmm_id=470', 'tet_sul2': 'http://fungene.cme.msu.edu/hmm_detail.spr?hmm_id=471', 'tett': 'http://fungene.cme.msu.edu/hmm_detail.spr?hmm_id=198', 'tetV_RDP': 'http://fungene.cme.msu.edu/hmm_detail.spr?hmm_id=826', 'tetW': 'http://fungene.cme.msu.edu/hmm_detail.spr?hmm_id=34', 'tetX_RDP': 'http://fungene.cme.msu.edu/hmm_detail.spr?hmm_id=827', 'tety': 'http://fungene.cme.msu.edu/hmm_detail.spr?hmm_id=288', 'tet_yya': 'http://fungene.cme.msu.edu/hmm_detail.spr?hmm_id=472', 'tetz': 'http://fungene.cme.msu.edu/hmm_detail.spr?hmm_id=308', 'tlrc': 'http://fungene.cme.msu.edu/hmm_detail.spr?hmm_id=258', 'tmrb': 'http://fungene.cme.msu.edu/hmm_detail.spr?hmm_id=301', 'tobr_aacA4': 'http://fungene.cme.msu.edu/hmm_detail.spr?hmm_id=473', 'tolc': 'http://fungene.cme.msu.edu/hmm_detail.spr?hmm_id=305', 'tran_lnuB': 'http://fungene.cme.msu.edu/hmm_detail.spr?hmm_id=474', 'trim_dfr': 'http://fungene.cme.msu.edu/hmm_detail.spr?hmm_id=475', 'trova_grlA6': 'http://fungene.cme.msu.edu/hmm_detail.spr?hmm_id=476', 'trova_grlA7': 'http://fungene.cme.msu.edu/hmm_detail.spr?hmm_id=477', 'trovA_grlA8': 'http://fungene.cme.msu.edu/hmm_detail.spr?hmm_id=478', 'tsnr': 'http://fungene.cme.msu.edu/hmm_detail.spr?hmm_id=172', 'van1': 'http://fungene.cme.msu.edu/hmm_detail.spr?hmm_id=479', 'van2': 'http://fungene.cme.msu.edu/hmm_detail.spr?hmm_id=480', 'van3': 'http://fungene.cme.msu.edu/hmm_detail.spr?hmm_id=481', 'van4': 'http://fungene.cme.msu.edu/hmm_detail.spr?hmm_id=482', 'van5': 'http://fungene.cme.msu.edu/hmm_detail.spr?hmm_id=483', 'van6': 'http://fungene.cme.msu.edu/hmm_detail.spr?hmm_id=484', 'van7': 'http://fungene.cme.msu.edu/hmm_detail.spr?hmm_id=485', 'van8': 'http://fungene.cme.msu.edu/hmm_detail.spr?hmm_id=486', 'vanc_unname': 'http://fungene.cme.msu.edu/hmm_detail.spr?hmm_id=487', 'vand': 'http://fungene.cme.msu.edu/hmm_detail.spr?hmm_id=103', 'vane': 'http://fungene.cme.msu.edu/hmm_detail.spr?hmm_id=124', 'vang': 'http://fungene.cme.msu.edu/hmm_detail.spr?hmm_id=94', 'vanha': 'http://fungene.cme.msu.edu/hmm_detail.spr?hmm_id=41', 'vanHB': 'http://fungene.cme.msu.edu/hmm_detail.spr?hmm_id=488', 'vanrb': 'http://fungene.cme.msu.edu/hmm_detail.spr?hmm_id=242', 'vanRB': 'http://fungene.cme.msu.edu/hmm_detail.spr?hmm_id=489', 'vanrc': 'http://fungene.cme.msu.edu/hmm_detail.spr?hmm_id=143', 'vanrd': 'http://fungene.cme.msu.edu/hmm_detail.spr?hmm_id=267', 'vanre': 'http://fungene.cme.msu.edu/hmm_detail.spr?hmm_id=175', 'van_repA': 'http://fungene.cme.msu.edu/hmm_detail.spr?hmm_id=490', 'vanrg': 'http://fungene.cme.msu.edu/hmm_detail.spr?hmm_id=141', 'vansb': 'http://fungene.cme.msu.edu/hmm_detail.spr?hmm_id=224', 'vanSB': 'http://fungene.cme.msu.edu/hmm_detail.spr?hmm_id=491', 'vansc': 'http://fungene.cme.msu.edu/hmm_detail.spr?hmm_id=171', 'vansd': 'http://fungene.cme.msu.edu/hmm_detail.spr?hmm_id=306', 'vanse': 'http://fungene.cme.msu.edu/hmm_detail.spr?hmm_id=291', 'vansg': 'http://fungene.cme.msu.edu/hmm_detail.spr?hmm_id=204', 'vant': 'http://fungene.cme.msu.edu/hmm_detail.spr?hmm_id=92', 'vante': 'http://fungene.cme.msu.edu/hmm_detail.spr?hmm_id=78', 'vantg': 'http://fungene.cme.msu.edu/hmm_detail.spr?hmm_id=210', 'vanug': 'http://fungene.cme.msu.edu/hmm_detail.spr?hmm_id=246', 'vanxyc': 'http://fungene.cme.msu.edu/hmm_detail.spr?hmm_id=164', 'vanxye': 'http://fungene.cme.msu.edu/hmm_detail.spr?hmm_id=145', 'vanxyg': 'http://fungene.cme.msu.edu/hmm_detail.spr?hmm_id=268', 'vanyb': 'http://fungene.cme.msu.edu/hmm_detail.spr?hmm_id=73', 'vanyd': 'http://fungene.cme.msu.edu/hmm_detail.spr?hmm_id=257', 'vanyg': 'http://fungene.cme.msu.edu/hmm_detail.spr?hmm_id=156', 'vanZ': 'http://fungene.cme.msu.edu/hmm_detail.spr?hmm_id=492', 'vata': 'http://fungene.cme.msu.edu/hmm_detail.spr?hmm_id=176', 'vatb': 'http://fungene.cme.msu.edu/hmm_detail.spr?hmm_id=220', 'vatc': 'http://fungene.cme.msu.edu/hmm_detail.spr?hmm_id=123', 'VEB': 'http://fungene.cme.msu.edu/hmm_detail.spr?hmm_id=555', 'vgbb': 'http://fungene.cme.msu.edu/hmm_detail.spr?hmm_id=57', 'VIM': 'http://fungene.cme.msu.edu/hmm_detail.spr?hmm_id=537', 'vph': 'http://fungene.cme.msu.edu/hmm_detail.spr?hmm_id=56', 'ykkc': 'http://fungene.cme.msu.edu/hmm_detail.spr?hmm_id=129', 'ykkd': 'http://fungene.cme.msu.edu/hmm_detail.spr?hmm_id=152'}\n",
            "aac2i\n",
            "http://fungene.cme.msu.edu/hmm_detail.spr?hmm_id=174\n"
          ],
          "name": "stdout"
        },
        {
          "output_type": "error",
          "ename": "TypeError",
          "evalue": "ignored",
          "traceback": [
            "\u001b[0;31m---------------------------------------------------------------------------\u001b[0m",
            "\u001b[0;31mTypeError\u001b[0m                                 Traceback (most recent call last)",
            "\u001b[0;32m<ipython-input-31-684f28d35079>\u001b[0m in \u001b[0;36m<module>\u001b[0;34m()\u001b[0m\n\u001b[1;32m    267\u001b[0m \u001b[0;34m\u001b[0m\u001b[0m\n\u001b[1;32m    268\u001b[0m \u001b[0;32mif\u001b[0m \u001b[0m__name__\u001b[0m \u001b[0;34m==\u001b[0m \u001b[0;34m'__main__'\u001b[0m\u001b[0;34m:\u001b[0m\u001b[0;34m\u001b[0m\u001b[0;34m\u001b[0m\u001b[0m\n\u001b[0;32m--> 269\u001b[0;31m     \u001b[0mmain\u001b[0m\u001b[0;34m(\u001b[0m\u001b[0;34m)\u001b[0m\u001b[0;34m\u001b[0m\u001b[0;34m\u001b[0m\u001b[0m\n\u001b[0m\u001b[1;32m    270\u001b[0m     \u001b[0;31m# print(__name__)\u001b[0m\u001b[0;34m\u001b[0m\u001b[0;34m\u001b[0m\u001b[0;34m\u001b[0m\u001b[0m\n\u001b[1;32m    271\u001b[0m \u001b[0;34m\u001b[0m\u001b[0m\n",
            "\u001b[0;32m<ipython-input-31-684f28d35079>\u001b[0m in \u001b[0;36mmain\u001b[0;34m()\u001b[0m\n\u001b[1;32m    260\u001b[0m \u001b[0;34m\u001b[0m\u001b[0m\n\u001b[1;32m    261\u001b[0m \u001b[0;32mdef\u001b[0m \u001b[0mmain\u001b[0m\u001b[0;34m(\u001b[0m\u001b[0;34m)\u001b[0m\u001b[0;34m:\u001b[0m\u001b[0;34m\u001b[0m\u001b[0;34m\u001b[0m\u001b[0m\n\u001b[0;32m--> 262\u001b[0;31m   \u001b[0mdictObj\u001b[0m \u001b[0;34m=\u001b[0m \u001b[0mget_data\u001b[0m\u001b[0;34m(\u001b[0m\u001b[0murl\u001b[0m\u001b[0;34m)\u001b[0m\u001b[0;34m\u001b[0m\u001b[0;34m\u001b[0m\u001b[0m\n\u001b[0m\u001b[1;32m    263\u001b[0m   \u001b[0mjsObj\u001b[0m \u001b[0;34m=\u001b[0m \u001b[0mjson\u001b[0m\u001b[0;34m.\u001b[0m\u001b[0mdumps\u001b[0m\u001b[0;34m(\u001b[0m\u001b[0mdictObj\u001b[0m\u001b[0;34m,\u001b[0m \u001b[0mindent\u001b[0m\u001b[0;34m=\u001b[0m\u001b[0;36m4\u001b[0m\u001b[0;34m)\u001b[0m\u001b[0;34m\u001b[0m\u001b[0;34m\u001b[0m\u001b[0m\n\u001b[1;32m    264\u001b[0m   \u001b[0mfileObject\u001b[0m \u001b[0;34m=\u001b[0m \u001b[0mopen\u001b[0m\u001b[0;34m(\u001b[0m\u001b[0;34m'./fungene.json'\u001b[0m\u001b[0;34m,\u001b[0m \u001b[0;34m'w'\u001b[0m\u001b[0;34m)\u001b[0m\u001b[0;34m\u001b[0m\u001b[0;34m\u001b[0m\u001b[0m\n",
            "\u001b[0;32m<ipython-input-31-684f28d35079>\u001b[0m in \u001b[0;36mget_data\u001b[0;34m(url)\u001b[0m\n\u001b[1;32m    152\u001b[0m       \u001b[0;32mif\u001b[0m \u001b[0mlen\u001b[0m\u001b[0;34m(\u001b[0m\u001b[0mgenes\u001b[0m\u001b[0;34m)\u001b[0m \u001b[0;34m>\u001b[0m\u001b[0;36m0\u001b[0m\u001b[0;34m:\u001b[0m\u001b[0;34m\u001b[0m\u001b[0;34m\u001b[0m\u001b[0m\n\u001b[1;32m    153\u001b[0m         \u001b[0mgene_list\u001b[0m\u001b[0;34m.\u001b[0m\u001b[0mappend\u001b[0m\u001b[0;34m(\u001b[0m\u001b[0mgenes\u001b[0m\u001b[0;34m)\u001b[0m\u001b[0;34m\u001b[0m\u001b[0;34m\u001b[0m\u001b[0m\n\u001b[0;32m--> 154\u001b[0;31m     \u001b[0mget_next_layer\u001b[0m\u001b[0;34m(\u001b[0m\u001b[0mgene_list\u001b[0m\u001b[0;34m,\u001b[0m\u001b[0mlink_list\u001b[0m\u001b[0;34m)\u001b[0m\u001b[0;34m\u001b[0m\u001b[0;34m\u001b[0m\u001b[0m\n\u001b[0m\u001b[1;32m    155\u001b[0m     \u001b[0;31m# print(rows_sub)\u001b[0m\u001b[0;34m\u001b[0m\u001b[0;34m\u001b[0m\u001b[0;34m\u001b[0m\u001b[0m\n\u001b[1;32m    156\u001b[0m \u001b[0;34m\u001b[0m\u001b[0m\n",
            "\u001b[0;32m<ipython-input-31-684f28d35079>\u001b[0m in \u001b[0;36mget_next_layer\u001b[0;34m(gene_list, link_list)\u001b[0m\n\u001b[1;32m     99\u001b[0m     \u001b[0;31m# rows_sub = [tag for tag in bs_sub.find_all('td') if tag.text == \"Page\"]\u001b[0m\u001b[0;34m\u001b[0m\u001b[0;34m\u001b[0m\u001b[0;34m\u001b[0m\u001b[0m\n\u001b[1;32m    100\u001b[0m     \u001b[0mrows_sub\u001b[0m \u001b[0;34m=\u001b[0m \u001b[0mbs_sub\u001b[0m\u001b[0;34m.\u001b[0m\u001b[0mfind_all\u001b[0m\u001b[0;34m(\u001b[0m\u001b[0;34m'td'\u001b[0m\u001b[0;34m)\u001b[0m\u001b[0;34m\u001b[0m\u001b[0;34m\u001b[0m\u001b[0m\n\u001b[0;32m--> 101\u001b[0;31m     \u001b[0mtd_page\u001b[0m\u001b[0;34m=\u001b[0m \u001b[0mre\u001b[0m\u001b[0;34m.\u001b[0m\u001b[0mfindall\u001b[0m\u001b[0;34m(\u001b[0m\u001b[0;34mr'<td>Page:(.*?)</td>'\u001b[0m\u001b[0;34m,\u001b[0m\u001b[0mrows_sub\u001b[0m\u001b[0;34m)\u001b[0m\u001b[0;34m\u001b[0m\u001b[0;34m\u001b[0m\u001b[0m\n\u001b[0m\u001b[1;32m    102\u001b[0m     \u001b[0mprint\u001b[0m\u001b[0;34m(\u001b[0m\u001b[0mtd_page\u001b[0m\u001b[0;34m)\u001b[0m\u001b[0;34m\u001b[0m\u001b[0;34m\u001b[0m\u001b[0m\n\u001b[1;32m    103\u001b[0m \u001b[0;34m\u001b[0m\u001b[0m\n",
            "\u001b[0;32m/usr/lib/python3.6/re.py\u001b[0m in \u001b[0;36mfindall\u001b[0;34m(pattern, string, flags)\u001b[0m\n\u001b[1;32m    220\u001b[0m \u001b[0;34m\u001b[0m\u001b[0m\n\u001b[1;32m    221\u001b[0m     Empty matches are included in the result.\"\"\"\n\u001b[0;32m--> 222\u001b[0;31m     \u001b[0;32mreturn\u001b[0m \u001b[0m_compile\u001b[0m\u001b[0;34m(\u001b[0m\u001b[0mpattern\u001b[0m\u001b[0;34m,\u001b[0m \u001b[0mflags\u001b[0m\u001b[0;34m)\u001b[0m\u001b[0;34m.\u001b[0m\u001b[0mfindall\u001b[0m\u001b[0;34m(\u001b[0m\u001b[0mstring\u001b[0m\u001b[0;34m)\u001b[0m\u001b[0;34m\u001b[0m\u001b[0;34m\u001b[0m\u001b[0m\n\u001b[0m\u001b[1;32m    223\u001b[0m \u001b[0;34m\u001b[0m\u001b[0m\n\u001b[1;32m    224\u001b[0m \u001b[0;32mdef\u001b[0m \u001b[0mfinditer\u001b[0m\u001b[0;34m(\u001b[0m\u001b[0mpattern\u001b[0m\u001b[0;34m,\u001b[0m \u001b[0mstring\u001b[0m\u001b[0;34m,\u001b[0m \u001b[0mflags\u001b[0m\u001b[0;34m=\u001b[0m\u001b[0;36m0\u001b[0m\u001b[0;34m)\u001b[0m\u001b[0;34m:\u001b[0m\u001b[0;34m\u001b[0m\u001b[0;34m\u001b[0m\u001b[0m\n",
            "\u001b[0;31mTypeError\u001b[0m: expected string or bytes-like object"
          ]
        }
      ]
    },
    {
      "cell_type": "code",
      "metadata": {
        "id": "rQCItQ8XPSEC",
        "outputId": "52b04b69-7c22-42ad-ced6-350c9844cea4",
        "colab": {
          "base_uri": "https://localhost:8080/"
        }
      },
      "source": [
        "os.makedirs"
      ],
      "execution_count": null,
      "outputs": [
        {
          "output_type": "execute_result",
          "data": {
            "text/plain": [
              "<function os.makedirs>"
            ]
          },
          "metadata": {
            "tags": []
          },
          "execution_count": 10
        }
      ]
    },
    {
      "cell_type": "code",
      "metadata": {
        "id": "V99HrZ8WJG3Q",
        "outputId": "5aa50974-f92e-413c-d8be-d68d26e8a6d7",
        "colab": {
          "base_uri": "https://localhost:8080/",
          "height": 39
        }
      },
      "source": [
        "import os\n",
        "# print(os.path)\n",
        "os.getcwd()"
      ],
      "execution_count": null,
      "outputs": [
        {
          "output_type": "execute_result",
          "data": {
            "application/vnd.google.colaboratory.intrinsic+json": {
              "type": "string"
            },
            "text/plain": [
              "'/content'"
            ]
          },
          "metadata": {
            "tags": []
          },
          "execution_count": 8
        }
      ]
    },
    {
      "cell_type": "code",
      "metadata": {
        "id": "D41216HMlwNk",
        "outputId": "8c97cc1f-0bf2-4abf-82b9-c3ee9b403896",
        "colab": {
          "base_uri": "https://localhost:8080/",
          "height": 250
        }
      },
      "source": [
        "# js=pd.read_json(\"./fungene.json\",encoding='utf-8',orient= \"index\")\n",
        "\n",
        "# type(js)\n",
        "\n",
        "with open(\"./fungene.json\") as f:\n",
        "  js = json.load(f)\n",
        "  print(js)\n",
        "  # t=type(js)\n",
        "  # print(t)\n",
        "  for k, v in js.items():\n",
        "    cmd = [\"wget\",v,\"-O\", '{:s}/{:s}.fasta'.format(k,k)]\n",
        "    print(cmd)\n",
        "    subprocess.run(cmd)\n",
        "  f.close()\n"
      ],
      "execution_count": null,
      "outputs": [
        {
          "output_type": "error",
          "ename": "FileNotFoundError",
          "evalue": "ignored",
          "traceback": [
            "\u001b[0;31m---------------------------------------------------------------------------\u001b[0m",
            "\u001b[0;31mFileNotFoundError\u001b[0m                         Traceback (most recent call last)",
            "\u001b[0;32m<ipython-input-6-a46654972783>\u001b[0m in \u001b[0;36m<module>\u001b[0;34m()\u001b[0m\n\u001b[1;32m      3\u001b[0m \u001b[0;31m# type(js)\u001b[0m\u001b[0;34m\u001b[0m\u001b[0;34m\u001b[0m\u001b[0;34m\u001b[0m\u001b[0m\n\u001b[1;32m      4\u001b[0m \u001b[0;34m\u001b[0m\u001b[0m\n\u001b[0;32m----> 5\u001b[0;31m \u001b[0;32mwith\u001b[0m \u001b[0mopen\u001b[0m\u001b[0;34m(\u001b[0m\u001b[0;34m\"./fungene.json\"\u001b[0m\u001b[0;34m)\u001b[0m \u001b[0;32mas\u001b[0m \u001b[0mf\u001b[0m\u001b[0;34m:\u001b[0m\u001b[0;34m\u001b[0m\u001b[0;34m\u001b[0m\u001b[0m\n\u001b[0m\u001b[1;32m      6\u001b[0m   \u001b[0mjs\u001b[0m \u001b[0;34m=\u001b[0m \u001b[0mjson\u001b[0m\u001b[0;34m.\u001b[0m\u001b[0mload\u001b[0m\u001b[0;34m(\u001b[0m\u001b[0mf\u001b[0m\u001b[0;34m)\u001b[0m\u001b[0;34m\u001b[0m\u001b[0;34m\u001b[0m\u001b[0m\n\u001b[1;32m      7\u001b[0m   \u001b[0mprint\u001b[0m\u001b[0;34m(\u001b[0m\u001b[0mjs\u001b[0m\u001b[0;34m)\u001b[0m\u001b[0;34m\u001b[0m\u001b[0;34m\u001b[0m\u001b[0m\n",
            "\u001b[0;31mFileNotFoundError\u001b[0m: [Errno 2] No such file or directory: './fungene.json'"
          ]
        }
      ]
    },
    {
      "cell_type": "code",
      "metadata": {
        "id": "lSydrw0-3HyS"
      },
      "source": [
        "!python drive/My\\ Drive/funGeneDld.py 2>&1 >> drive/My\\ Drive/dld1.log"
      ],
      "execution_count": null,
      "outputs": []
    }
  ]
}